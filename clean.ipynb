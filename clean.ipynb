{
 "cells": [
  {
   "cell_type": "code",
   "execution_count": 1,
   "metadata": {},
   "outputs": [],
   "source": [
    "import pandas as pd \n",
    "import numpy as np\n"
   ]
  },
  {
   "cell_type": "code",
   "execution_count": 5,
   "metadata": {},
   "outputs": [],
   "source": [
    "# Read the CSV file into a DataFrame\n",
    "df = pd.read_csv('C://Users//DELL//Desktop//webscraper//flipkart_chocolates.csv')\n",
    "\n",
    "# Replace various missing value indicators with pd.NA\n",
    "missing_values = ['Not available', 'Name not available', 'No reviews', 'Price not available']\n",
    "df = df.replace(missing_values, pd.NA)\n",
    "\n",
    "# Remove rows with missing values\n",
    "df = df.dropna()\n",
    "\n",
    "# Write the cleaned DataFrame back to a CSV file\n",
    "df.to_csv('cleaned_file.csv', index=False)\n",
    "\n"
   ]
  },
  {
   "cell_type": "code",
   "execution_count": 7,
   "metadata": {},
   "outputs": [
    {
     "data": {
      "image/png": "[encoded data removed]",
      "text/plain": [
       "<Figure size 576x432 with 1 Axes>"
      ]
     },
     "metadata": {
      "needs_background": "light"
     },
     "output_type": "display_data"
    },
    {
     "name": "stdout",
     "output_type": "stream",
     "text": [
      "Summary Statistics:\n",
      "           Rating\n",
      "count  100.000000\n",
      "mean     4.250000\n",
      "std      0.185047\n",
      "min      3.600000\n",
      "25%      4.100000\n",
      "50%      4.300000\n",
      "75%      4.400000\n",
      "max      4.500000\n",
      "\n",
      "Average Rating by Product:\n",
      "Name\n",
      "Kinder JOY Milk Fudges                                        4.5\n",
      "Cadbury Dairy Milk Lickables with Oreo Chunks Milk Choc...    4.4\n",
      "White Castle Vanila Truffles                                  4.4\n",
      "Cadbury Dairy Milk Silk Roast Almond Bars                     4.4\n",
      "Cadbury Dairy Milk Silk Oreo Chocolate Bars                   4.4\n",
      "Cadbury Dairy Milk Silk Fruits and Nut Chocolate Bars         4.4\n",
      "HUGS Wonder Chocolate Truffle with Messages | Chocolate...    4.4\n",
      "Cadbury Dairy Milk Silk Valentines Gift Pack Chocolate ...    4.4\n",
      "Cadbury Dairy Milk Fruit and Nut Chocolate Bars               4.4\n",
      "Cadbury Dairy Milk Fruit & Nut Chocolate Bars                 4.4\n",
      "Cadbury Dairy Milk Crackle Chocolate Bars                     4.4\n",
      "Cadbury Dairy Milk Home Treats Chocolate Bars                 4.3\n",
      "Cadbury Dairy Milk Maha Pack Chocolate Bars                   4.3\n",
      "Cadbury Dairy Milk Crispello Bars                             4.3\n",
      "Cadbury 5 Star Chocolate Home Treats Bars                     4.3\n",
      "Cadbury 5 Star Chocolate Home Treat Bars                      4.3\n",
      "Cadbury Fuse Peanut & Caramel Filled Chocolate Home Tre...    4.3\n",
      "Cadbury 5 Star Chocolate Bars                                 4.3\n",
      "Snickers Miniatures Peanut Filled Chocolates Bars, Load...    4.3\n",
      "SNICKERS Almond Filled Chocolate , Loaded with Nougat &...    4.3\n",
      "Cadbury Dairy Milk Silk Bubbly Valentines Gift Pack Cho...    4.3\n",
      "Rich'U Chocolates I LOVE YOU Milk Chocolate Bar Berries...    4.1\n",
      "Denali Premium Dark Compound Slab with 18% Cocoa, Delic...    4.1\n",
      "HUGS Ghana Twist Dark Chocolate 36 Pcs Jar Pack Of 3 Fu...    4.1\n",
      "HERSHEY'S Whole Almonds, Cookies 'N' Creme and Creamy M...    4.1\n",
      "HUGS Ghana Twist Dark Chocolate | Chocolate Gift Hamper...    4.0\n",
      "Expelite Happy Birthday Chocolate Bar Gift Box for Husb...    4.0\n",
      "Expelite Happy Anniversay Chocolate Gift Bar Box for Hu...    4.0\n",
      "Sugarfree D'lite The Dark Collection Assorted Gift Pack...    4.0\n",
      "Tosca Muso Gold Chocolate- Center Filled Milk Chocolate...    3.9\n",
      "Winola Chocolate Gift Pack- Choco Biscuit Balls (1 kg) ...    3.8\n",
      "CHOCOINDIANART Elegant Happy Valentine's Day, 06pcs Del...    3.8\n",
      "Winola Milk Choco Gold Center Filled Milk Choco 140g Ja...    3.7\n",
      "Nature Purify Orange Candy (Khatti Mithi Goli) Truffles       3.6\n",
      "Name: Rating, dtype: float64\n"
     ]
    }
   ],
   "source": [
    "import matplotlib.pyplot as plt \n",
    "df = pd.read_csv('cleaned_file.csv')\n",
    "\n",
    "# Convert 'Rating' column to numeric\n",
    "df['Rating'] = pd.to_numeric(df['Rating'], errors='coerce')\n",
    "\n",
    "# Summary statistics\n",
    "summary_stats = df.describe()\n",
    "\n",
    "# Distribution of ratings\n",
    "plt.figure(figsize=(8, 6))\n",
    "plt.hist(df['Rating'], bins=10, color='skyblue', edgecolor='black', alpha=0.7)\n",
    "plt.title('Distribution of Ratings')\n",
    "plt.xlabel('Rating')\n",
    "plt.ylabel('Frequency')\n",
    "plt.grid(True)\n",
    "plt.show()\n",
    "\n",
    "# Average rating by product\n",
    "avg_rating_by_product = df.groupby('Name')['Rating'].mean().sort_values(ascending=False)\n",
    "\n",
    "# Displaying insights\n",
    "print(\"Summary Statistics:\")\n",
    "print(summary_stats)\n",
    "print(\"\\nAverage Rating by Product:\")\n",
    "print(avg_rating_by_product)"
   ]
  },
  {
   "cell_type": "code",
   "execution_count": 10,
   "metadata": {},
   "outputs": [
    {
     "name": "stdout",
     "output_type": "stream",
     "text": [
      "Top 10 products based on review count:\n",
      "                                                 Name  Rating  Review Count  \\\n",
      "83      Cadbury Dairy Milk Home Treats Chocolate Bars     4.3         21093   \n",
      "3       Cadbury Dairy Milk Home Treats Chocolate Bars     4.3         21093   \n",
      "63      Cadbury Dairy Milk Home Treats Chocolate Bars     4.3         21093   \n",
      "23      Cadbury Dairy Milk Home Treats Chocolate Bars     4.3         21093   \n",
      "0       Cadbury Dairy Milk Fruit & Nut Chocolate Bars     4.4         12684   \n",
      "60      Cadbury Dairy Milk Fruit & Nut Chocolate Bars     4.4         12684   \n",
      "20      Cadbury Dairy Milk Fruit & Nut Chocolate Bars     4.4         12684   \n",
      "34  Rich'U Chocolates I LOVE YOU Milk Chocolate Ba...     4.4         12684   \n",
      "46    Cadbury Dairy Milk Fruit and Nut Chocolate Bars     4.4         12684   \n",
      "80      Cadbury Dairy Milk Fruit & Nut Chocolate Bars     4.4         12684   \n",
      "\n",
      "   Price  \n",
      "83  ₹119  \n",
      "3   ₹119  \n",
      "63  ₹119  \n",
      "23  ₹119  \n",
      "0   ₹507  \n",
      "60  ₹507  \n",
      "20  ₹507  \n",
      "34  ₹142  \n",
      "46   ₹90  \n",
      "80  ₹507  \n"
     ]
    },
    {
     "name": "stderr",
     "output_type": "stream",
     "text": [
      "C:\\Users\\DELL\\AppData\\Local\\Temp\\ipykernel_3792\\1617996269.py:4: FutureWarning: The default value of regex will change from True to False in a future version. In addition, single character regular expressions will *not* be treated as literal strings when regex=True.\n",
      "  df['Review Count'] = df['Review Count'].str.replace('(', '').str.replace(')', '').str.replace(',', '').astype(int)\n"
     ]
    }
   ],
   "source": [
    "df = pd.read_csv('cleaned_file.csv')\n",
    "\n",
    "# Convert 'Review Count' column to numeric\n",
    "df['Review Count'] = df['Review Count'].str.replace('(', '').str.replace(')', '').str.replace(',', '').astype(int)\n",
    "\n",
    "# Sort the DataFrame by 'Review Count' column in descending order\n",
    "df_sorted = df.sort_values(by='Review Count', ascending=False)\n",
    "\n",
    "# Select the top 10 products\n",
    "top_10_products = df_sorted.head(10)\n",
    "\n",
    "# Display the top 10 products\n",
    "print(\"Top 10 products based on review count:\")\n",
    "print(top_10_products)"
   ]
  },
  {
   "cell_type": "code",
   "execution_count": 12,
   "metadata": {},
   "outputs": [
    {
     "name": "stdout",
     "output_type": "stream",
     "text": [
      "Top 10 products based on both rating and review count:\n",
      "                                                 Name  Rating  Review Count  \\\n",
      "6                              Kinder JOY Milk Fudges     4.5          2405   \n",
      "26                             Kinder JOY Milk Fudges     4.5          2405   \n",
      "66                             Kinder JOY Milk Fudges     4.5          2405   \n",
      "86                             Kinder JOY Milk Fudges     4.5          2405   \n",
      "0       Cadbury Dairy Milk Fruit & Nut Chocolate Bars     4.4         12684   \n",
      "20      Cadbury Dairy Milk Fruit & Nut Chocolate Bars     4.4         12684   \n",
      "34  Rich'U Chocolates I LOVE YOU Milk Chocolate Ba...     4.4         12684   \n",
      "46    Cadbury Dairy Milk Fruit and Nut Chocolate Bars     4.4         12684   \n",
      "60      Cadbury Dairy Milk Fruit & Nut Chocolate Bars     4.4         12684   \n",
      "80      Cadbury Dairy Milk Fruit & Nut Chocolate Bars     4.4         12684   \n",
      "\n",
      "   Price  \n",
      "6   ₹340  \n",
      "26  ₹340  \n",
      "66  ₹340  \n",
      "86  ₹340  \n",
      "0   ₹507  \n",
      "20  ₹507  \n",
      "34  ₹142  \n",
      "46   ₹90  \n",
      "60  ₹507  \n",
      "80  ₹507  \n"
     ]
    },
    {
     "name": "stderr",
     "output_type": "stream",
     "text": [
      "C:\\Users\\DELL\\AppData\\Local\\Temp\\ipykernel_3792\\3405711103.py:7: FutureWarning: The default value of regex will change from True to False in a future version. In addition, single character regular expressions will *not* be treated as literal strings when regex=True.\n",
      "  df['Review Count'] = df['Review Count'].str.replace('(', '').str.replace(')', '').str.replace(',', '').astype(int)\n"
     ]
    }
   ],
   "source": [
    "import pandas as pd\n",
    "\n",
    "# Read the CSV file into a DataFrame\n",
    "df = pd.read_csv('cleaned_file.csv')\n",
    "\n",
    "# Convert 'Review Count' column to numeric\n",
    "df['Review Count'] = df['Review Count'].str.replace('(', '').str.replace(')', '').str.replace(',', '').astype(int)\n",
    "\n",
    "# Convert 'Rating' column to numeric\n",
    "df['Rating'] = pd.to_numeric(df['Rating'], errors='coerce')\n",
    "\n",
    "# Drop rows with missing values in either 'Rating' or 'Review Count' columns\n",
    "df.dropna(subset=['Rating', 'Review Count'], inplace=True)\n",
    "\n",
    "# Sort the DataFrame by both 'Rating' and 'Review Count' columns\n",
    "df_sorted = df.sort_values(by=['Rating', 'Review Count'], ascending=False)\n",
    "\n",
    "# Select the top 10 products\n",
    "top_10_products = df_sorted.head(10)\n",
    "\n",
    "# Display the top 10 products\n",
    "print(\"Top 10 products based on both rating and review count:\")\n",
    "print(top_10_products)\n"
   ]
  },
  {
   "cell_type": "code",
   "execution_count": 2,
   "metadata": {},
   "outputs": [
    {
     "name": "stdout",
     "output_type": "stream",
     "text": [
      "Top 10 unique products based on both rating and review count:\n",
      "                                                 Name  Rating  Review Count  \\\n",
      "6                              Kinder JOY Milk Fudges     4.5          2405   \n",
      "0       Cadbury Dairy Milk Fruit & Nut Chocolate Bars     4.4         12684   \n",
      "34  Rich'U Chocolates I LOVE YOU Milk Chocolate Ba...     4.4         12684   \n",
      "46    Cadbury Dairy Milk Fruit and Nut Chocolate Bars     4.4         12684   \n",
      "2           Cadbury Dairy Milk Crackle Chocolate Bars     4.4          7549   \n",
      "40        Cadbury Dairy Milk Silk Oreo Chocolate Bars     4.4          5729   \n",
      "74  Cadbury Dairy Milk Lickables with Oreo Chunks ...     4.4          3735   \n",
      "12          Cadbury Dairy Milk Silk Roast Almond Bars     4.4          3717   \n",
      "73  Cadbury Dairy Milk Silk Fruits and Nut Chocola...     4.4          3544   \n",
      "8                        White Castle Vanila Truffles     4.4          2436   \n",
      "\n",
      "   Price  \n",
      "6   ₹340  \n",
      "0   ₹507  \n",
      "34  ₹142  \n",
      "46   ₹90  \n",
      "2   ₹423  \n",
      "40  ₹549  \n",
      "74  ₹442  \n",
      "12  ₹504  \n",
      "73  ₹712  \n",
      "8   ₹250  \n"
     ]
    },
    {
     "name": "stderr",
     "output_type": "stream",
     "text": [
      "C:\\Users\\DELL\\AppData\\Local\\Temp\\ipykernel_2856\\3763816932.py:7: FutureWarning: The default value of regex will change from True to False in a future version. In addition, single character regular expressions will *not* be treated as literal strings when regex=True.\n",
      "  df['Review Count'] = df['Review Count'].str.replace('(', '').str.replace(')', '').str.replace(',', '').astype(int)\n"
     ]
    }
   ],
   "source": [
    "import pandas as pd\n",
    "\n",
    "# Read the CSV file into a DataFrame\n",
    "df = pd.read_csv('cleaned_file.csv')\n",
    "\n",
    "# Convert 'Review Count' column to numeric\n",
    "df['Review Count'] = df['Review Count'].str.replace('(', '').str.replace(')', '').str.replace(',', '').astype(int)\n",
    "\n",
    "# Convert 'Rating' column to numeric\n",
    "df['Rating'] = pd.to_numeric(df['Rating'], errors='coerce')\n",
    "\n",
    "# Drop rows with missing values in either 'Rating' or 'Review Count' columns\n",
    "df.dropna(subset=['Rating', 'Review Count'], inplace=True)\n",
    "\n",
    "# Sort the DataFrame by both 'Rating' and 'Review Count' columns\n",
    "df_sorted = df.sort_values(by=['Rating', 'Review Count'], ascending=False)\n",
    "\n",
    "# Drop duplicate products, keeping only the first occurrence\n",
    "unique_products = df_sorted.drop_duplicates(subset='Name', keep='first')\n",
    "\n",
    "# Select the top 10 unique products\n",
    "top_10_unique_products = unique_products.head(10)\n",
    "\n",
    "# Display the top 10 unique products\n",
    "print(\"Top 10 unique products based on both rating and review count:\")\n",
    "print(top_10_unique_products)\n"
   ]
  },
  {
   "cell_type": "code",
   "execution_count": 3,
   "metadata": {},
   "outputs": [
    {
     "data": {
      "text/html": [
       "<div>\n",
       "<style scoped>\n",
       "    .dataframe tbody tr th:only-of-type {\n",
       "        vertical-align: middle;\n",
       "    }\n",
       "\n",
       "    .dataframe tbody tr th {\n",
       "        vertical-align: top;\n",
       "    }\n",
       "\n",
       "    .dataframe thead th {\n",
       "        text-align: right;\n",
       "    }\n",
       "</style>\n",
       "<table border=\"1\" class=\"dataframe\">\n",
       "  <thead>\n",
       "    <tr style=\"text-align: right;\">\n",
       "      <th></th>\n",
       "      <th>Name</th>\n",
       "      <th>Rating</th>\n",
       "      <th>Review Count</th>\n",
       "      <th>Price</th>\n",
       "    </tr>\n",
       "  </thead>\n",
       "  <tbody>\n",
       "    <tr>\n",
       "      <th>0</th>\n",
       "      <td>Cadbury Dairy Milk Fruit &amp; Nut Chocolate Bars</td>\n",
       "      <td>4.4</td>\n",
       "      <td>12684</td>\n",
       "      <td>₹507</td>\n",
       "    </tr>\n",
       "    <tr>\n",
       "      <th>1</th>\n",
       "      <td>Cadbury 5 Star Chocolate Bars</td>\n",
       "      <td>4.3</td>\n",
       "      <td>2227</td>\n",
       "      <td>₹744</td>\n",
       "    </tr>\n",
       "    <tr>\n",
       "      <th>2</th>\n",
       "      <td>Cadbury Dairy Milk Crackle Chocolate Bars</td>\n",
       "      <td>4.4</td>\n",
       "      <td>7549</td>\n",
       "      <td>₹423</td>\n",
       "    </tr>\n",
       "    <tr>\n",
       "      <th>3</th>\n",
       "      <td>Cadbury Dairy Milk Home Treats Chocolate Bars</td>\n",
       "      <td>4.3</td>\n",
       "      <td>21093</td>\n",
       "      <td>₹119</td>\n",
       "    </tr>\n",
       "    <tr>\n",
       "      <th>4</th>\n",
       "      <td>Cadbury Dairy Milk Silk Valentines Gift Pack C...</td>\n",
       "      <td>4.4</td>\n",
       "      <td>2061</td>\n",
       "      <td>₹507</td>\n",
       "    </tr>\n",
       "    <tr>\n",
       "      <th>5</th>\n",
       "      <td>HUGS Ghana Twist Dark Chocolate | Chocolate Gi...</td>\n",
       "      <td>4.0</td>\n",
       "      <td>396</td>\n",
       "      <td>₹243</td>\n",
       "    </tr>\n",
       "    <tr>\n",
       "      <th>6</th>\n",
       "      <td>Kinder JOY Milk Fudges</td>\n",
       "      <td>4.5</td>\n",
       "      <td>2405</td>\n",
       "      <td>₹340</td>\n",
       "    </tr>\n",
       "    <tr>\n",
       "      <th>7</th>\n",
       "      <td>Cadbury 5 Star Chocolate Home Treat Bars</td>\n",
       "      <td>4.3</td>\n",
       "      <td>6436</td>\n",
       "      <td>₹223</td>\n",
       "    </tr>\n",
       "    <tr>\n",
       "      <th>8</th>\n",
       "      <td>White Castle Vanila Truffles</td>\n",
       "      <td>4.4</td>\n",
       "      <td>2436</td>\n",
       "      <td>₹250</td>\n",
       "    </tr>\n",
       "    <tr>\n",
       "      <th>9</th>\n",
       "      <td>SNICKERS Almond Filled Chocolate , Loaded with...</td>\n",
       "      <td>4.3</td>\n",
       "      <td>527</td>\n",
       "      <td>₹468</td>\n",
       "    </tr>\n",
       "  </tbody>\n",
       "</table>\n",
       "</div>"
      ],
      "text/plain": [
       "                                                Name  Rating  Review Count  \\\n",
       "0      Cadbury Dairy Milk Fruit & Nut Chocolate Bars     4.4         12684   \n",
       "1                      Cadbury 5 Star Chocolate Bars     4.3          2227   \n",
       "2          Cadbury Dairy Milk Crackle Chocolate Bars     4.4          7549   \n",
       "3      Cadbury Dairy Milk Home Treats Chocolate Bars     4.3         21093   \n",
       "4  Cadbury Dairy Milk Silk Valentines Gift Pack C...     4.4          2061   \n",
       "5  HUGS Ghana Twist Dark Chocolate | Chocolate Gi...     4.0           396   \n",
       "6                             Kinder JOY Milk Fudges     4.5          2405   \n",
       "7           Cadbury 5 Star Chocolate Home Treat Bars     4.3          6436   \n",
       "8                       White Castle Vanila Truffles     4.4          2436   \n",
       "9  SNICKERS Almond Filled Chocolate , Loaded with...     4.3           527   \n",
       "\n",
       "  Price  \n",
       "0  ₹507  \n",
       "1  ₹744  \n",
       "2  ₹423  \n",
       "3  ₹119  \n",
       "4  ₹507  \n",
       "5  ₹243  \n",
       "6  ₹340  \n",
       "7  ₹223  \n",
       "8  ₹250  \n",
       "9  ₹468  "
      ]
     },
     "execution_count": 3,
     "metadata": {},
     "output_type": "execute_result"
    }
   ],
   "source": [
    "df.head(10)"
   ]
  },
  {
   "cell_type": "code",
   "execution_count": null,
   "metadata": {},
   "outputs": [],
   "source": []
  },
  {
   "cell_type": "code",
   "execution_count": null,
   "metadata": {},
   "outputs": [],
   "source": []
  },
  {
   "cell_type": "markdown",
   "metadata": {},
   "source": [
    "                                                       Cadbury Cakes "
   ]
  },
  {
   "cell_type": "code",
   "execution_count": 13,
   "metadata": {},
   "outputs": [],
   "source": [
    "# Read the CSV file into a DataFrame\n",
    "df = pd.read_csv('C://Users//DELL//Desktop//webscraper//cadbury_cakes.csv')\n",
    "\n",
    "# Replace various missing value indicators with pd.NA\n",
    "missing_values = ['Not available', 'Name not available', 'No reviews', 'Price not available']\n",
    "df = df.replace(missing_values, pd.NA)\n",
    "\n",
    "# Remove rows with missing values\n",
    "df = df.dropna()\n",
    "\n",
    "# Write the cleaned DataFrame back to a CSV file\n",
    "df.to_csv('cleaned_cadbury_cakes.csv', index=False)"
   ]
  },
  {
   "cell_type": "code",
   "execution_count": 16,
   "metadata": {},
   "outputs": [
    {
     "name": "stdout",
     "output_type": "stream",
     "text": [
      "Top 10 unique products based on both rating and review count:\n",
      "                                                 Name  Rating  Review Count  \\\n",
      "2   Cake Time Chocolate Flavor Cake Mix For Super ...     4.4            65   \n",
      "12  Mohan Impex Chocolate Cake Mix, Eggless, Rich ...     4.4            65   \n",
      "5   CCDS Rich Chocolate Cake Pre-Mix 250 grams Rai...     4.3            87   \n",
      "3                Mr.Kool Bakers Ingredients Kit Combo     4.1             9   \n",
      "1        Prizex Cake decoration combo 800 gm Truffles     4.0            60   \n",
      "13  Cake Time Combo of Whole Wheat Chocolote cake ...     4.0            60   \n",
      "6   Maayka - Ek Atoot Rishta Chocolate Cake Mix 20...     4.0            30   \n",
      "0   CHOCOVILLE Dark Compound Slab Chocolate Baking...     4.0             3   \n",
      "10  Mulberry foods Mulberry Zingals Slice Cake Mix...     4.0             3   \n",
      "17          Cake Time Whole Wheat Chocolate Mix 250 g     3.9            16   \n",
      "\n",
      "   Price  \n",
      "2   ₹235  \n",
      "12  ₹349  \n",
      "5   ₹199  \n",
      "3   ₹165  \n",
      "1   ₹629  \n",
      "13  ₹235  \n",
      "6   ₹249  \n",
      "0   ₹135  \n",
      "10  ₹480  \n",
      "17  ₹119  \n"
     ]
    },
    {
     "name": "stderr",
     "output_type": "stream",
     "text": [
      "C:\\Users\\DELL\\AppData\\Local\\Temp\\ipykernel_3792\\1994527924.py:7: FutureWarning: The default value of regex will change from True to False in a future version. In addition, single character regular expressions will *not* be treated as literal strings when regex=True.\n",
      "  df['Review Count'] = df['Review Count'].str.replace('(', '').str.replace(')', '').str.replace(',', '').astype(int)\n"
     ]
    }
   ],
   "source": [
    "import pandas as pd\n",
    "\n",
    "# Read the CSV file into a DataFrame\n",
    "df = pd.read_csv('cleaned_cadbury_cakes.csv')\n",
    "\n",
    "# Convert 'Review Count' column to numeric\n",
    "df['Review Count'] = df['Review Count'].str.replace('(', '').str.replace(')', '').str.replace(',', '').astype(int)\n",
    "\n",
    "# Convert 'Rating' column to numeric\n",
    "df['Rating'] = pd.to_numeric(df['Rating'], errors='coerce')\n",
    "\n",
    "# Drop rows with missing values in either 'Rating' or 'Review Count' columns\n",
    "df.dropna(subset=['Rating', 'Review Count'], inplace=True)\n",
    "\n",
    "# Sort the DataFrame by both 'Rating' and 'Review Count' columns\n",
    "df_sorted = df.sort_values(by=['Rating', 'Review Count'], ascending=False)\n",
    "\n",
    "# Drop duplicate products, keeping only the first occurrence\n",
    "unique_products = df_sorted.drop_duplicates(subset='Name', keep='first')\n",
    "\n",
    "# Select the top 10 unique products\n",
    "top_10_unique_products = unique_products.head(10)\n",
    "\n",
    "# Display the top 10 unique products\n",
    "print(\"Top 10 unique products based on both rating and review count:\")\n",
    "print(top_10_unique_products)\n"
   ]
  },
  {
   "cell_type": "code",
   "execution_count": null,
   "metadata": {},
   "outputs": [],
   "source": []
  },
  {
   "cell_type": "code",
   "execution_count": null,
   "metadata": {},
   "outputs": [],
   "source": []
  },
  {
   "cell_type": "markdown",
   "metadata": {},
   "source": [
    "                                                     Flipkart Cakes"
   ]
  },
  {
   "cell_type": "code",
   "execution_count": 18,
   "metadata": {},
   "outputs": [],
   "source": [
    "# Read the CSV file into a DataFrame\n",
    "df = pd.read_csv('C://Users//DELL//Desktop//webscraper//flipkart_cakes.csv')\n",
    "\n",
    "# Replace various missing value indicators with pd.NA\n",
    "missing_values = ['Not available', 'Name not available', 'No reviews', 'Price not available']\n",
    "df = df.replace(missing_values, pd.NA)\n",
    "\n",
    "# Remove rows with missing values\n",
    "df = df.dropna()\n",
    "\n",
    "# Write the cleaned DataFrame back to a CSV file\n",
    "df.to_csv('cleaned_flipkart_cakes.csv', index=False)"
   ]
  },
  {
   "cell_type": "code",
   "execution_count": 19,
   "metadata": {},
   "outputs": [
    {
     "name": "stdout",
     "output_type": "stream",
     "text": [
      "Top 10 unique products based on both rating and review count:\n",
      "                                                 Name  Rating  Review Count  \\\n",
      "18  Lotte Chocopie-48 Pcs ( 300 GRAM X 4) Cookie Cake     4.4           234   \n",
      "9   ORGANIC NATURE Chocolate Sprinkles for Cake De...     4.4            25   \n",
      "47       Haldiram's Soan Cake (Sadha) (Pack of 2) Box     4.3         11152   \n",
      "3   LuvIt Luscious Choco Spread | Made with Cocoa ...     4.3          4485   \n",
      "8   PALFREY Unsweetened & Natural 300g Cocoa Powde...     4.3          2585   \n",
      "31   Sunfeast Dark Fantasy Yumm Fills Pie Cookie Cake     4.3           253   \n",
      "35  spice n dice Multicolor Tutti Frutti | Fresh C...     4.3           215   \n",
      "6   LuvIt Choco Spread | Smooth & Delicious | Made...     4.2          2004   \n",
      "11  Bakersveggie Eggless Chocolate Cake Premix ( m...     4.2           837   \n",
      "46  Bliss of Earth 2X250gm Dark Unsweetened Cocoa ...     4.2           759   \n",
      "\n",
      "   Price  \n",
      "18  ₹655  \n",
      "9   ₹259  \n",
      "47  ₹230  \n",
      "3   ₹499  \n",
      "8   ₹294  \n",
      "31  ₹175  \n",
      "35  ₹135  \n",
      "6   ₹297  \n",
      "11  ₹260  \n",
      "46  ₹350  \n"
     ]
    },
    {
     "name": "stderr",
     "output_type": "stream",
     "text": [
      "C:\\Users\\DELL\\AppData\\Local\\Temp\\ipykernel_3792\\3065345018.py:7: FutureWarning: The default value of regex will change from True to False in a future version. In addition, single character regular expressions will *not* be treated as literal strings when regex=True.\n",
      "  df['Review Count'] = df['Review Count'].str.replace('(', '').str.replace(')', '').str.replace(',', '').astype(int)\n"
     ]
    }
   ],
   "source": [
    "import pandas as pd\n",
    "\n",
    "# Read the CSV file into a DataFrame\n",
    "df = pd.read_csv('cleaned_flipkart_cakes.csv')\n",
    "\n",
    "# Convert 'Review Count' column to numeric\n",
    "df['Review Count'] = df['Review Count'].str.replace('(', '').str.replace(')', '').str.replace(',', '').astype(int)\n",
    "\n",
    "# Convert 'Rating' column to numeric\n",
    "df['Rating'] = pd.to_numeric(df['Rating'], errors='coerce')\n",
    "\n",
    "# Drop rows with missing values in either 'Rating' or 'Review Count' columns\n",
    "df.dropna(subset=['Rating', 'Review Count'], inplace=True)\n",
    "\n",
    "# Sort the DataFrame by both 'Rating' and 'Review Count' columns\n",
    "df_sorted = df.sort_values(by=['Rating', 'Review Count'], ascending=False)\n",
    "\n",
    "# Drop duplicate products, keeping only the first occurrence\n",
    "unique_products = df_sorted.drop_duplicates(subset='Name', keep='first')\n",
    "\n",
    "# Select the top 10 unique products\n",
    "top_10_unique_products = unique_products.head(10)\n",
    "\n",
    "# Display the top 10 unique products\n",
    "print(\"Top 10 unique products based on both rating and review count:\")\n",
    "print(top_10_unique_products)\n"
   ]
  },
  {
   "cell_type": "code",
   "execution_count": null,
   "metadata": {},
   "outputs": [],
   "source": []
  }
 ],
 "metadata": {
  "kernelspec": {
   "display_name": "Python 3",
   "language": "python",
   "name": "python3"
  },
  "language_info": {
   "codemirror_mode": {
    "name": "ipython",
    "version": 3
   },
   "file_extension": ".py",
   "mimetype": "text/x-python",
   "name": "python",
   "nbconvert_exporter": "python",
   "pygments_lexer": "ipython3",
   "version": "3.10.5"
  }
 },
 "nbformat": 4,
 "nbformat_minor": 2
}

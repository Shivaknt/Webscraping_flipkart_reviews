{
 "cells": [
  {
   "cell_type": "code",
   "execution_count": 2,
   "metadata": {},
   "outputs": [
    {
     "data": {
      "text/html": [
       "<div>\n",
       "<style scoped>\n",
       "    .dataframe tbody tr th:only-of-type {\n",
       "        vertical-align: middle;\n",
       "    }\n",
       "\n",
       "    .dataframe tbody tr th {\n",
       "        vertical-align: top;\n",
       "    }\n",
       "\n",
       "    .dataframe thead th {\n",
       "        text-align: right;\n",
       "    }\n",
       "</style>\n",
       "<table border=\"1\" class=\"dataframe\">\n",
       "  <thead>\n",
       "    <tr style=\"text-align: right;\">\n",
       "      <th></th>\n",
       "      <th>Name</th>\n",
       "      <th>District/Location</th>\n",
       "      <th>Rating</th>\n",
       "      <th>Comment</th>\n",
       "      <th>Full Review</th>\n",
       "    </tr>\n",
       "  </thead>\n",
       "  <tbody>\n",
       "    <tr>\n",
       "      <th>0</th>\n",
       "      <td>Nigar Nawar</td>\n",
       "      <td>Certified Buyer, North Twenty Four Parganas Di...</td>\n",
       "      <td>5</td>\n",
       "      <td>Classy product</td>\n",
       "      <td>Osm😘😘READ MORE</td>\n",
       "    </tr>\n",
       "    <tr>\n",
       "      <th>1</th>\n",
       "      <td>uttam sahu</td>\n",
       "      <td>Certified Buyer, Ganjam District</td>\n",
       "      <td>5</td>\n",
       "      <td>Excellent</td>\n",
       "      <td>I am happy with product 😍 😋 fillREAD MORE</td>\n",
       "    </tr>\n",
       "    <tr>\n",
       "      <th>2</th>\n",
       "      <td>Biplab</td>\n",
       "      <td>Certified Buyer, Kalahandi District</td>\n",
       "      <td>5</td>\n",
       "      <td>Terrific</td>\n",
       "      <td>Nice chocolate taste with smooth texture....Ca...</td>\n",
       "    </tr>\n",
       "    <tr>\n",
       "      <th>3</th>\n",
       "      <td>Julie Choudhary</td>\n",
       "      <td>Certified Buyer, Uttar Bagdogra</td>\n",
       "      <td>5</td>\n",
       "      <td>Wonderful</td>\n",
       "      <td>Woww it's amazing 😍 😍READ MORE</td>\n",
       "    </tr>\n",
       "    <tr>\n",
       "      <th>4</th>\n",
       "      <td>Omshree Kulkarni</td>\n",
       "      <td>Certified Buyer, Hubli</td>\n",
       "      <td>5</td>\n",
       "      <td>Classy product</td>\n",
       "      <td>I loved it 😍READ MORE</td>\n",
       "    </tr>\n",
       "  </tbody>\n",
       "</table>\n",
       "</div>"
      ],
      "text/plain": [
       "               Name                                  District/Location  \\\n",
       "0       Nigar Nawar  Certified Buyer, North Twenty Four Parganas Di...   \n",
       "1        uttam sahu                   Certified Buyer, Ganjam District   \n",
       "2            Biplab                Certified Buyer, Kalahandi District   \n",
       "3   Julie Choudhary                    Certified Buyer, Uttar Bagdogra   \n",
       "4  Omshree Kulkarni                             Certified Buyer, Hubli   \n",
       "\n",
       "   Rating         Comment                                        Full Review  \n",
       "0       5  Classy product                                     Osm😘😘READ MORE  \n",
       "1       5       Excellent          I am happy with product 😍 😋 fillREAD MORE  \n",
       "2       5        Terrific  Nice chocolate taste with smooth texture....Ca...  \n",
       "3       5       Wonderful                     Woww it's amazing 😍 😍READ MORE  \n",
       "4       5  Classy product                              I loved it 😍READ MORE  "
      ]
     },
     "execution_count": 2,
     "metadata": {},
     "output_type": "execute_result"
    }
   ],
   "source": [
    "import pandas as pd\n",
    "\n",
    "# Load the CSV file into a DataFrame\n",
    "df = pd.read_csv(\"review_of_choco.csv\")\n",
    "\n",
    "df.head()\n"
   ]
  },
  {
   "cell_type": "code",
   "execution_count": 3,
   "metadata": {},
   "outputs": [
    {
     "data": {
      "text/html": [
       "<div>\n",
       "<style scoped>\n",
       "    .dataframe tbody tr th:only-of-type {\n",
       "        vertical-align: middle;\n",
       "    }\n",
       "\n",
       "    .dataframe tbody tr th {\n",
       "        vertical-align: top;\n",
       "    }\n",
       "\n",
       "    .dataframe thead th {\n",
       "        text-align: right;\n",
       "    }\n",
       "</style>\n",
       "<table border=\"1\" class=\"dataframe\">\n",
       "  <thead>\n",
       "    <tr style=\"text-align: right;\">\n",
       "      <th></th>\n",
       "      <th>Name</th>\n",
       "      <th>District/Location</th>\n",
       "      <th>Rating</th>\n",
       "      <th>Comment</th>\n",
       "      <th>Full Review</th>\n",
       "    </tr>\n",
       "  </thead>\n",
       "  <tbody>\n",
       "    <tr>\n",
       "      <th>0</th>\n",
       "      <td>Nigar Nawar</td>\n",
       "      <td>Certified Buyer, North Twenty Four Parganas Di...</td>\n",
       "      <td>5</td>\n",
       "      <td>Classy product</td>\n",
       "      <td>Osm😘😘</td>\n",
       "    </tr>\n",
       "    <tr>\n",
       "      <th>1</th>\n",
       "      <td>uttam sahu</td>\n",
       "      <td>Certified Buyer, Ganjam District</td>\n",
       "      <td>5</td>\n",
       "      <td>Excellent</td>\n",
       "      <td>I am happy with product 😍 😋 fill</td>\n",
       "    </tr>\n",
       "    <tr>\n",
       "      <th>2</th>\n",
       "      <td>Biplab</td>\n",
       "      <td>Certified Buyer, Kalahandi District</td>\n",
       "      <td>5</td>\n",
       "      <td>Terrific</td>\n",
       "      <td>Nice chocolate taste with smooth texture....Ca...</td>\n",
       "    </tr>\n",
       "    <tr>\n",
       "      <th>3</th>\n",
       "      <td>Julie Choudhary</td>\n",
       "      <td>Certified Buyer, Uttar Bagdogra</td>\n",
       "      <td>5</td>\n",
       "      <td>Wonderful</td>\n",
       "      <td>Woww it's amazing 😍 😍</td>\n",
       "    </tr>\n",
       "    <tr>\n",
       "      <th>4</th>\n",
       "      <td>Omshree Kulkarni</td>\n",
       "      <td>Certified Buyer, Hubli</td>\n",
       "      <td>5</td>\n",
       "      <td>Classy product</td>\n",
       "      <td>I loved it 😍</td>\n",
       "    </tr>\n",
       "  </tbody>\n",
       "</table>\n",
       "</div>"
      ],
      "text/plain": [
       "               Name                                  District/Location  \\\n",
       "0       Nigar Nawar  Certified Buyer, North Twenty Four Parganas Di...   \n",
       "1        uttam sahu                   Certified Buyer, Ganjam District   \n",
       "2            Biplab                Certified Buyer, Kalahandi District   \n",
       "3   Julie Choudhary                    Certified Buyer, Uttar Bagdogra   \n",
       "4  Omshree Kulkarni                             Certified Buyer, Hubli   \n",
       "\n",
       "   Rating         Comment                                        Full Review  \n",
       "0       5  Classy product                                              Osm😘😘  \n",
       "1       5       Excellent                   I am happy with product 😍 😋 fill  \n",
       "2       5        Terrific  Nice chocolate taste with smooth texture....Ca...  \n",
       "3       5       Wonderful                              Woww it's amazing 😍 😍  \n",
       "4       5  Classy product                                       I loved it 😍  "
      ]
     },
     "execution_count": 3,
     "metadata": {},
     "output_type": "execute_result"
    }
   ],
   "source": [
    "# Remove \"READ MORE\" from the \"Full Review\" column\n",
    "df['Full Review'] = df['Full Review'].str.replace('READ MORE', '')\n",
    "df.head()"
   ]
  },
  {
   "cell_type": "code",
   "execution_count": 5,
   "metadata": {},
   "outputs": [],
   "source": [
    "import pandas as pd\n",
    "from collections import Counter\n",
    "import matplotlib.pyplot as plt\n",
    "from textblob import TextBlob"
   ]
  },
  {
   "cell_type": "code",
   "execution_count": 6,
   "metadata": {},
   "outputs": [
    {
     "name": "stdout",
     "output_type": "stream",
     "text": [
      "Average Rating: 4.01\n"
     ]
    }
   ],
   "source": [
    "# 1. Average Rating\n",
    "average_rating = df['Rating'].mean()\n",
    "print(\"Average Rating:\", average_rating)\n"
   ]
  },
  {
   "cell_type": "code",
   "execution_count": 7,
   "metadata": {},
   "outputs": [
    {
     "name": "stdout",
     "output_type": "stream",
     "text": [
      "Most Common District/Location: Certified Buyer, Bangalore\n"
     ]
    }
   ],
   "source": [
    "# 2. Most Common District/Location\n",
    "common_location = df['District/Location'].mode()[0]\n",
    "print(\"Most Common District/Location:\", common_location)"
   ]
  },
  {
   "cell_type": "code",
   "execution_count": 8,
   "metadata": {},
   "outputs": [
    {
     "name": "stdout",
     "output_type": "stream",
     "text": [
      "Top Comments:\n",
      "Classy product        6\n",
      "Wonderful             6\n",
      "Highly recommended    5\n",
      "Name: Comment, dtype: int64\n"
     ]
    }
   ],
   "source": [
    "# 3. Top Comments\n",
    "top_comments = df['Comment'].value_counts().head(3)\n",
    "print(\"Top Comments:\")\n",
    "print(top_comments)"
   ]
  },
  {
   "cell_type": "code",
   "execution_count": 9,
   "metadata": {},
   "outputs": [
    {
     "name": "stdout",
     "output_type": "stream",
     "text": [
      "Top 10 Words in Full Reviews:\n",
      "[('Good', 25), ('very', 17), ('product', 16), ('and', 13), ('chocolate', 11), ('is', 11), ('Very', 11), ('good', 10), ('I', 9), ('Nice', 9)]\n"
     ]
    }
   ],
   "source": [
    "# 4. Word Frequency in Full Reviews\n",
    "full_reviews = ' '.join(df['Full Review'])\n",
    "word_frequency = Counter(full_reviews.split()).most_common(10)\n",
    "print(\"Top 10 Words in Full Reviews:\")\n",
    "print(word_frequency)\n"
   ]
  },
  {
   "cell_type": "code",
   "execution_count": 10,
   "metadata": {},
   "outputs": [
    {
     "name": "stdout",
     "output_type": "stream",
     "text": [
      "Average Sentiment Polarity: 0.3652992857142858\n"
     ]
    }
   ],
   "source": [
    "# 5. Sentiment Analysis\n",
    "sentiments = df['Full Review'].apply(lambda x: TextBlob(x).sentiment.polarity)\n",
    "average_sentiment = sentiments.mean()\n",
    "print(\"Average Sentiment Polarity:\", average_sentiment)\n"
   ]
  },
  {
   "cell_type": "code",
   "execution_count": 11,
   "metadata": {},
   "outputs": [
    {
     "name": "stdout",
     "output_type": "stream",
     "text": [
      "Average Review Length: 5.47\n"
     ]
    }
   ],
   "source": [
    "# 6. Length of Reviews\n",
    "df['Review Length'] = df['Full Review'].apply(lambda x: len(x.split()))\n",
    "average_review_length = df['Review Length'].mean()\n",
    "print(\"Average Review Length:\", average_review_length)"
   ]
  },
  {
   "cell_type": "code",
   "execution_count": 12,
   "metadata": {},
   "outputs": [
    {
     "data": {
      "image/png": "[encoded data removed]",
      "text/plain": [
       "<Figure size 432x288 with 1 Axes>"
      ]
     },
     "metadata": {
      "needs_background": "light"
     },
     "output_type": "display_data"
    }
   ],
   "source": [
    "# 7. Rating Distribution\n",
    "rating_distribution = df['Rating'].value_counts().sort_index()\n",
    "plt.bar(rating_distribution.index, rating_distribution.values)\n",
    "plt.xlabel('Rating')\n",
    "plt.ylabel('Count')\n",
    "plt.title('Rating Distribution')\n",
    "plt.show()"
   ]
  },
  {
   "cell_type": "code",
   "execution_count": 13,
   "metadata": {},
   "outputs": [
    {
     "name": "stdout",
     "output_type": "stream",
     "text": [
      "Number of Positive Reviews: 64\n",
      "Number of Negative Reviews: 10\n",
      "Number of Neutral Reviews: 26\n"
     ]
    }
   ],
   "source": [
    "# Define thresholds for sentiment categories\n",
    "positive_threshold = 0.2\n",
    "negative_threshold = -0.2\n",
    "\n",
    "# Categorize sentiment based on thresholds\n",
    "positive_reviews = sentiments[sentiments > positive_threshold].count()\n",
    "negative_reviews = sentiments[sentiments < negative_threshold].count()\n",
    "neutral_reviews = len(sentiments) - positive_reviews - negative_reviews\n",
    "\n",
    "print(\"Number of Positive Reviews:\", positive_reviews)\n",
    "print(\"Number of Negative Reviews:\", negative_reviews)\n",
    "print(\"Number of Neutral Reviews:\", neutral_reviews)\n"
   ]
  },
  {
   "cell_type": "code",
   "execution_count": null,
   "metadata": {},
   "outputs": [],
   "source": []
  }
 ],
 "metadata": {
  "kernelspec": {
   "display_name": "Python 3",
   "language": "python",
   "name": "python3"
  },
  "language_info": {
   "codemirror_mode": {
    "name": "ipython",
    "version": 3
   },
   "file_extension": ".py",
   "mimetype": "text/x-python",
   "name": "python",
   "nbconvert_exporter": "python",
   "pygments_lexer": "ipython3",
   "version": "3.10.5"
  }
 },
 "nbformat": 4,
 "nbformat_minor": 2
}
